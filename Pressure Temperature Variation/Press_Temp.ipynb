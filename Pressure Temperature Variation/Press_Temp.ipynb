{
 "cells": [
  {
   "cell_type": "code",
   "execution_count": 12,
   "metadata": {},
   "outputs": [],
   "source": [
    "import numpy as np\n",
    "import pandas as pd\n",
    "from datetime import datetime as dt\n",
    "import time\n",
    "import matplotlib.pyplot as plt"
   ]
  },
  {
   "cell_type": "code",
   "execution_count": 13,
   "metadata": {},
   "outputs": [],
   "source": [
    "def uniform_generator():\n",
    "    P_scaled = np.random.uniform(0,0.1,1)\n",
    "    T_scaled = np.random.uniform(0,0.1,1)\n",
    "    return P_scaled[0],T_scaled[0]"
   ]
  },
  {
   "cell_type": "code",
   "execution_count": 14,
   "metadata": {},
   "outputs": [],
   "source": [
    "%matplotlib qt"
   ]
  },
  {
   "cell_type": "code",
   "execution_count": 11,
   "metadata": {},
   "outputs": [
    {
     "name": "stdout",
     "output_type": "stream",
     "text": [
      "How many iterations?\n",
      "15\n"
     ]
    },
    {
     "name": "stderr",
     "output_type": "stream",
     "text": [
      "/usr/local/lib/python3.7/dist-packages/ipykernel_launcher.py:30: MatplotlibDeprecationWarning: Adding an axes using the same arguments as a previous axes currently reuses the earlier instance.  In a future version, a new instance will always be created and returned.  Meanwhile, this warning can be suppressed, and the future behavior ensured, by passing a unique label to each axes instance.\n",
      "/usr/local/lib/python3.7/dist-packages/ipykernel_launcher.py:33: MatplotlibDeprecationWarning: Adding an axes using the same arguments as a previous axes currently reuses the earlier instance.  In a future version, a new instance will always be created and returned.  Meanwhile, this warning can be suppressed, and the future behavior ensured, by passing a unique label to each axes instance.\n"
     ]
    },
    {
     "data": {
      "text/plain": [
       "([<matplotlib.lines.Line2D at 0x7f0d487ba310>], None)"
      ]
     },
     "execution_count": 11,
     "metadata": {},
     "output_type": "execute_result"
    }
   ],
   "source": [
    "start = dt.now()\n",
    "P_scaled = []; T_scaled = []\n",
    "timestamps = []\n",
    "\n",
    "plt.style.use('ggplot')\n",
    "plt.ion()\n",
    "\n",
    "print(\"How many iterations?\")\n",
    "while True:\n",
    "    try:\n",
    "        N = int(input())\n",
    "    except ValueError:\n",
    "        print(\"Invalid Input\")\n",
    "        continue\n",
    "    break\n",
    "    \n",
    "fig = plt.figure()\n",
    "\n",
    "for i in range(N):\n",
    "    cur_time = dt.now()\n",
    "    P,T = uniform_generator()\n",
    "    P_scaled.append(P*1000)\n",
    "    T_scaled.append(T*1000)\n",
    "    \n",
    "    timestamps.append((cur_time-start).total_seconds())\n",
    "    \n",
    "    time_array = np.array(timestamps,np.float32)\n",
    "    \n",
    "    plt.subplot(2,1,1)\n",
    "    plt.xlim(-0.5,N*0.5+5)\n",
    "    plt.scatter(x=time_array[i],y=P_scaled[i],c='k')\n",
    "    plt.ylabel(r\"Pressure$\\rightarrow$\")\n",
    "    plt.subplot(2,1,2)\n",
    "    plt.xlim(-0.5,N*0.5+5)\n",
    "    plt.scatter(x=time_array[i],y=T_scaled[i],c='r')\n",
    "    plt.ylabel(r\"Temperature$\\rightarrow$\")\n",
    "    plt.xlabel(r\"Time$\\rightarrow$\")\n",
    "    plt.show(),plt.pause(0.5)\n",
    "\n",
    "plt.close(fig)\n",
    "\n",
    "plt.ylabel(r\"Pressure$\\rightarrow$\")\n",
    "plt.xlabel(r\"Time$\\rightarrow$\")\n",
    "plt.plot(time_array,P_scaled,c='k'),plt.show()\n",
    "plt.ylabel(r\"Temperature$\\rightarrow$\")\n",
    "plt.xlabel(r\"Time$\\rightarrow$\")\n",
    "plt.plot(time_array,T_scaled,c='r'),plt.show()\n",
    "\n",
    "while True: \n",
    "    print('Close Plot?')\n",
    "    plt.pause(0.0001)\n",
    "    s1 = input()\n",
    "    if s1 == 'Y':\n",
    "        plt.close()\n",
    "        break"
   ]
  },
  {
   "cell_type": "code",
   "execution_count": null,
   "metadata": {},
   "outputs": [],
   "source": []
  }
 ],
 "metadata": {
  "kernelspec": {
   "display_name": "Python 3",
   "language": "python",
   "name": "python3"
  },
  "language_info": {
   "codemirror_mode": {
    "name": "ipython",
    "version": 3
   },
   "file_extension": ".py",
   "mimetype": "text/x-python",
   "name": "python",
   "nbconvert_exporter": "python",
   "pygments_lexer": "ipython3",
   "version": "3.7.5"
  }
 },
 "nbformat": 4,
 "nbformat_minor": 4
}
